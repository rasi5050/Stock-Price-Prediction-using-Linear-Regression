{
 "cells": [
  {
   "cell_type": "markdown",
   "metadata": {},
   "source": [
    "# Aim: Stock Price Prediction Using Linear Regression\n",
    "environment: JupyterLab Version 3.0.7 on AWS EC2\n",
    "\n",
    "dataset: [TSLA;Yahoo Finance](https://query1.finance.yahoo.com/v7/finance/download/TSLA?period1=1618375180&period2=1649911180&interval=1d&events=history&includeAdjustedClose=true\n",
    ")"
   ]
  },
  {
   "cell_type": "code",
   "execution_count": 86,
   "metadata": {},
   "outputs": [],
   "source": [
    "#import packages\n",
    "import pandas as pd\n",
    "import numpy as np\n",
    "import matplotlib.pyplot as plt"
   ]
  },
  {
   "cell_type": "markdown",
   "metadata": {},
   "source": [
    "### Load dataset"
   ]
  },
  {
   "cell_type": "code",
   "execution_count": 87,
   "metadata": {},
   "outputs": [],
   "source": [
    "df = pd.read_csv('TSLA.csv')"
   ]
  },
  {
   "cell_type": "markdown",
   "metadata": {},
   "source": [
    "## Exploratory data analysis"
   ]
  },
  {
   "cell_type": "code",
   "execution_count": 88,
   "metadata": {},
   "outputs": [
    {
     "data": {
      "text/plain": [
       "(254, 7)"
      ]
     },
     "execution_count": 88,
     "metadata": {},
     "output_type": "execute_result"
    }
   ],
   "source": [
    "#dimensions of dataset (row,column)\n",
    "df.shape"
   ]
  },
  {
   "cell_type": "code",
   "execution_count": 89,
   "metadata": {},
   "outputs": [
    {
     "name": "stdout",
     "output_type": "stream",
     "text": [
      "<class 'pandas.core.frame.DataFrame'>\n",
      "RangeIndex: 254 entries, 0 to 253\n",
      "Data columns (total 7 columns):\n",
      " #   Column     Non-Null Count  Dtype  \n",
      "---  ------     --------------  -----  \n",
      " 0   Date       254 non-null    object \n",
      " 1   Open       254 non-null    float64\n",
      " 2   High       254 non-null    float64\n",
      " 3   Low        254 non-null    float64\n",
      " 4   Close      254 non-null    float64\n",
      " 5   Adj Close  254 non-null    float64\n",
      " 6   Volume     254 non-null    int64  \n",
      "dtypes: float64(5), int64(1), object(1)\n",
      "memory usage: 14.0+ KB\n"
     ]
    }
   ],
   "source": [
    "#datatypes of dataset\n",
    "df.info()"
   ]
  },
  {
   "cell_type": "code",
   "execution_count": 90,
   "metadata": {},
   "outputs": [
    {
     "data": {
      "text/html": [
       "<div>\n",
       "<style scoped>\n",
       "    .dataframe tbody tr th:only-of-type {\n",
       "        vertical-align: middle;\n",
       "    }\n",
       "\n",
       "    .dataframe tbody tr th {\n",
       "        vertical-align: top;\n",
       "    }\n",
       "\n",
       "    .dataframe thead th {\n",
       "        text-align: right;\n",
       "    }\n",
       "</style>\n",
       "<table border=\"1\" class=\"dataframe\">\n",
       "  <thead>\n",
       "    <tr style=\"text-align: right;\">\n",
       "      <th></th>\n",
       "      <th>Date</th>\n",
       "      <th>Open</th>\n",
       "      <th>High</th>\n",
       "      <th>Low</th>\n",
       "      <th>Close</th>\n",
       "      <th>Adj Close</th>\n",
       "      <th>Volume</th>\n",
       "    </tr>\n",
       "  </thead>\n",
       "  <tbody>\n",
       "    <tr>\n",
       "      <th>0</th>\n",
       "      <td>2021-04-14</td>\n",
       "      <td>770.700012</td>\n",
       "      <td>780.789978</td>\n",
       "      <td>728.030029</td>\n",
       "      <td>732.229980</td>\n",
       "      <td>732.229980</td>\n",
       "      <td>49017400</td>\n",
       "    </tr>\n",
       "    <tr>\n",
       "      <th>1</th>\n",
       "      <td>2021-04-15</td>\n",
       "      <td>743.099976</td>\n",
       "      <td>743.690002</td>\n",
       "      <td>721.309998</td>\n",
       "      <td>738.849976</td>\n",
       "      <td>738.849976</td>\n",
       "      <td>27848900</td>\n",
       "    </tr>\n",
       "    <tr>\n",
       "      <th>2</th>\n",
       "      <td>2021-04-16</td>\n",
       "      <td>728.650024</td>\n",
       "      <td>749.409973</td>\n",
       "      <td>724.599976</td>\n",
       "      <td>739.780029</td>\n",
       "      <td>739.780029</td>\n",
       "      <td>27979500</td>\n",
       "    </tr>\n",
       "    <tr>\n",
       "      <th>3</th>\n",
       "      <td>2021-04-19</td>\n",
       "      <td>719.599976</td>\n",
       "      <td>725.400024</td>\n",
       "      <td>691.799988</td>\n",
       "      <td>714.630005</td>\n",
       "      <td>714.630005</td>\n",
       "      <td>39686200</td>\n",
       "    </tr>\n",
       "    <tr>\n",
       "      <th>4</th>\n",
       "      <td>2021-04-20</td>\n",
       "      <td>717.419983</td>\n",
       "      <td>737.250000</td>\n",
       "      <td>710.690002</td>\n",
       "      <td>718.989990</td>\n",
       "      <td>718.989990</td>\n",
       "      <td>35609000</td>\n",
       "    </tr>\n",
       "  </tbody>\n",
       "</table>\n",
       "</div>"
      ],
      "text/plain": [
       "         Date        Open        High         Low       Close   Adj Close  \\\n",
       "0  2021-04-14  770.700012  780.789978  728.030029  732.229980  732.229980   \n",
       "1  2021-04-15  743.099976  743.690002  721.309998  738.849976  738.849976   \n",
       "2  2021-04-16  728.650024  749.409973  724.599976  739.780029  739.780029   \n",
       "3  2021-04-19  719.599976  725.400024  691.799988  714.630005  714.630005   \n",
       "4  2021-04-20  717.419983  737.250000  710.690002  718.989990  718.989990   \n",
       "\n",
       "     Volume  \n",
       "0  49017400  \n",
       "1  27848900  \n",
       "2  27979500  \n",
       "3  39686200  \n",
       "4  35609000  "
      ]
     },
     "execution_count": 90,
     "metadata": {},
     "output_type": "execute_result"
    }
   ],
   "source": [
    "#first 5 rows of data\n",
    "df.head()"
   ]
  },
  {
   "cell_type": "code",
   "execution_count": 91,
   "metadata": {},
   "outputs": [
    {
     "data": {
      "text/html": [
       "<div>\n",
       "<style scoped>\n",
       "    .dataframe tbody tr th:only-of-type {\n",
       "        vertical-align: middle;\n",
       "    }\n",
       "\n",
       "    .dataframe tbody tr th {\n",
       "        vertical-align: top;\n",
       "    }\n",
       "\n",
       "    .dataframe thead th {\n",
       "        text-align: right;\n",
       "    }\n",
       "</style>\n",
       "<table border=\"1\" class=\"dataframe\">\n",
       "  <thead>\n",
       "    <tr style=\"text-align: right;\">\n",
       "      <th></th>\n",
       "      <th>Open</th>\n",
       "      <th>High</th>\n",
       "      <th>Low</th>\n",
       "      <th>Close</th>\n",
       "      <th>Adj Close</th>\n",
       "      <th>Volume</th>\n",
       "    </tr>\n",
       "  </thead>\n",
       "  <tbody>\n",
       "    <tr>\n",
       "      <th>count</th>\n",
       "      <td>254.000000</td>\n",
       "      <td>254.000000</td>\n",
       "      <td>254.000000</td>\n",
       "      <td>254.000000</td>\n",
       "      <td>254.000000</td>\n",
       "      <td>2.540000e+02</td>\n",
       "    </tr>\n",
       "    <tr>\n",
       "      <th>mean</th>\n",
       "      <td>836.094488</td>\n",
       "      <td>854.628029</td>\n",
       "      <td>817.262560</td>\n",
       "      <td>836.384761</td>\n",
       "      <td>836.384761</td>\n",
       "      <td>2.506423e+07</td>\n",
       "    </tr>\n",
       "    <tr>\n",
       "      <th>std</th>\n",
       "      <td>177.432117</td>\n",
       "      <td>183.599282</td>\n",
       "      <td>169.487398</td>\n",
       "      <td>176.850683</td>\n",
       "      <td>176.850683</td>\n",
       "      <td>9.001270e+06</td>\n",
       "    </tr>\n",
       "    <tr>\n",
       "      <th>min</th>\n",
       "      <td>552.549988</td>\n",
       "      <td>566.210022</td>\n",
       "      <td>546.979980</td>\n",
       "      <td>563.460022</td>\n",
       "      <td>563.460022</td>\n",
       "      <td>9.800600e+06</td>\n",
       "    </tr>\n",
       "    <tr>\n",
       "      <th>25%</th>\n",
       "      <td>684.102493</td>\n",
       "      <td>697.552521</td>\n",
       "      <td>672.914994</td>\n",
       "      <td>685.100021</td>\n",
       "      <td>685.100021</td>\n",
       "      <td>1.879225e+07</td>\n",
       "    </tr>\n",
       "    <tr>\n",
       "      <th>50%</th>\n",
       "      <td>791.590027</td>\n",
       "      <td>805.285004</td>\n",
       "      <td>778.514984</td>\n",
       "      <td>792.774993</td>\n",
       "      <td>792.774993</td>\n",
       "      <td>2.348270e+07</td>\n",
       "    </tr>\n",
       "    <tr>\n",
       "      <th>75%</th>\n",
       "      <td>1000.817520</td>\n",
       "      <td>1023.817490</td>\n",
       "      <td>976.549988</td>\n",
       "      <td>1007.602493</td>\n",
       "      <td>1007.602493</td>\n",
       "      <td>2.971858e+07</td>\n",
       "    </tr>\n",
       "    <tr>\n",
       "      <th>max</th>\n",
       "      <td>1234.410034</td>\n",
       "      <td>1243.489990</td>\n",
       "      <td>1217.000000</td>\n",
       "      <td>1229.910034</td>\n",
       "      <td>1229.910034</td>\n",
       "      <td>6.285210e+07</td>\n",
       "    </tr>\n",
       "  </tbody>\n",
       "</table>\n",
       "</div>"
      ],
      "text/plain": [
       "              Open         High          Low        Close    Adj Close  \\\n",
       "count   254.000000   254.000000   254.000000   254.000000   254.000000   \n",
       "mean    836.094488   854.628029   817.262560   836.384761   836.384761   \n",
       "std     177.432117   183.599282   169.487398   176.850683   176.850683   \n",
       "min     552.549988   566.210022   546.979980   563.460022   563.460022   \n",
       "25%     684.102493   697.552521   672.914994   685.100021   685.100021   \n",
       "50%     791.590027   805.285004   778.514984   792.774993   792.774993   \n",
       "75%    1000.817520  1023.817490   976.549988  1007.602493  1007.602493   \n",
       "max    1234.410034  1243.489990  1217.000000  1229.910034  1229.910034   \n",
       "\n",
       "             Volume  \n",
       "count  2.540000e+02  \n",
       "mean   2.506423e+07  \n",
       "std    9.001270e+06  \n",
       "min    9.800600e+06  \n",
       "25%    1.879225e+07  \n",
       "50%    2.348270e+07  \n",
       "75%    2.971858e+07  \n",
       "max    6.285210e+07  "
      ]
     },
     "execution_count": 91,
     "metadata": {},
     "output_type": "execute_result"
    }
   ],
   "source": [
    "#statistical tendencies\n",
    "df.describe()"
   ]
  },
  {
   "cell_type": "markdown",
   "metadata": {},
   "source": [
    "## Extracting Required columns"
   ]
  },
  {
   "cell_type": "code",
   "execution_count": 103,
   "metadata": {},
   "outputs": [
    {
     "name": "stdout",
     "output_type": "stream",
     "text": [
      "<class 'pandas.core.frame.DataFrame'>\n",
      "RangeIndex: 254 entries, 0 to 253\n",
      "Data columns (total 2 columns):\n",
      " #   Column  Non-Null Count  Dtype         \n",
      "---  ------  --------------  -----         \n",
      " 0   Date    254 non-null    datetime64[ns]\n",
      " 1   Close   254 non-null    float64       \n",
      "dtypes: datetime64[ns](1), float64(1)\n",
      "memory usage: 4.1 KB\n"
     ]
    },
    {
     "name": "stderr",
     "output_type": "stream",
     "text": [
      "/opt/conda/envs/rapids/lib/python3.7/site-packages/ipykernel_launcher.py:9: SettingWithCopyWarning: \n",
      "A value is trying to be set on a copy of a slice from a DataFrame.\n",
      "Try using .loc[row_indexer,col_indexer] = value instead\n",
      "\n",
      "See the caveats in the documentation: https://pandas.pydata.org/pandas-docs/stable/user_guide/indexing.html#returning-a-view-versus-a-copy\n",
      "  if __name__ == '__main__':\n"
     ]
    }
   ],
   "source": [
    "#select date, close price; other columns are irrelevant for this task\n",
    "df_close = df[['Date','Close']]\n",
    "\n",
    "#removed hyphens to interpret date as integers\n",
    "#df_close['Date'] = df_close['Date'].str.replace(r'\\D', '')\n",
    "#discarded >> converting to int was discarded because, it was found that linear regressor will consider it as a base10 number,\n",
    "#but date is actually not + 1unit of change in the number will not represent 1unit change in a day, hence the \n",
    "#final results will be skewed\n",
    "\n",
    "#change column 'Date' to 'datetime'\n",
    "df_close['Date'] = pd.to_datetime(df_close['Date'])\n",
    "df_close.info()"
   ]
  },
  {
   "cell_type": "markdown",
   "metadata": {},
   "source": [
    "## Visualize dataset"
   ]
  },
  {
   "cell_type": "code",
   "execution_count": 105,
   "metadata": {},
   "outputs": [
    {
     "data": {
      "image/png": "[encoded data removed]",
      "text/plain": [
       "<Figure size 432x288 with 1 Axes>"
      ]
     },
     "metadata": {
      "needs_background": "light"
     },
     "output_type": "display_data"
    }
   ],
   "source": [
    "plt.scatter(df_close['Date'], df_close['Close'], color='blue', label='scatter plot')\n",
    "plt.title('TESLA stock prices')\n",
    "plt.xlabel('Date')\n",
    "plt.ylabel('Price in $')\n",
    "plt.legend(loc=4)\n",
    "plt.show()"
   ]
  },
  {
   "cell_type": "markdown",
   "metadata": {},
   "source": [
    "## spliting the dataset into train and test set and reshape"
   ]
  },
  {
   "cell_type": "code",
   "execution_count": 95,
   "metadata": {},
   "outputs": [],
   "source": [
    "from sklearn.model_selection import train_test_split\n",
    "train, test = train_test_split(df_close, test_size=0.33, random_state=27)"
   ]
  },
  {
   "cell_type": "code",
   "execution_count": 106,
   "metadata": {},
   "outputs": [
    {
     "name": "stdout",
     "output_type": "stream",
     "text": [
      "(170, 1)\n",
      "(170,)\n",
      "(84, 1)\n",
      "(84,)\n"
     ]
    }
   ],
   "source": [
    "#this goes with the crude assumption that index can be used to represent 1unit of change in date, \n",
    "#since date as such cannot be used for linearRegression as its not strictly integer\n",
    "X_train = np.array(train.index).reshape(-1,1)\n",
    "y_train = train['Close']\n",
    "X_test = np.array(test.index).reshape(-1,1)\n",
    "y_test = test['Close']\n",
    "\n",
    "#verify shape of train and test set\n",
    "print(X_train.shape) \n",
    "print(y_train.shape)\n",
    "print(X_test.shape) \n",
    "print(y_test.shape)"
   ]
  },
  {
   "cell_type": "markdown",
   "metadata": {},
   "source": [
    "## fit into model"
   ]
  },
  {
   "cell_type": "code",
   "execution_count": 107,
   "metadata": {},
   "outputs": [],
   "source": [
    "#instantiate model\n",
    "from sklearn.linear_model import LinearRegression\n",
    "lr = LinearRegression()\n",
    "lr.fit(X_train, y_train)\n",
    "\n",
    "y_pred = lr.predict(X_test)\n",
    "\n",
    "#creating DataFrame to plot actual and predicted values\n",
    "df_close_pred = test[['Date','Close']]\n",
    "df_close_pred['Prediction'] = y_pred\n"
   ]
  },
  {
   "cell_type": "markdown",
   "metadata": {},
   "source": [
    "## model representation\n",
    "Linear regression follows Linear Equation y = mx + c\n",
    "where,\n",
    "m = slope of the line\n",
    "c = y intercept\n",
    "\n",
    "m and c are the parameters to be found in the equation.\n",
    "\n",
    "fitting the model on this dataset finds the optimum value of m and c. that line will represent the dataset as close as possible, given the assumption dataset has to be correlated linearly."
   ]
  },
  {
   "cell_type": "code",
   "execution_count": 131,
   "metadata": {},
   "outputs": [
    {
     "name": "stdout",
     "output_type": "stream",
     "text": [
      "slope m is 1.7191\n",
      "interpretation: for 1unit of change in unit of date, here index, there is a 1.7191 increase in price\n",
      "y intercept c is  609.772899387955\n",
      "interpretation: the line is above the cooridnate(0,0) by distance 609.7729 unit along the y axis\n",
      "hence, then resulting equation is y = 1.7191 x + 609.7729\n"
     ]
    }
   ],
   "source": [
    "#the parameters are\n",
    "print(\"slope m is {:.4f}\".format(lr.coef_[0]))\n",
    "print('interpretation: for 1unit of change in unit of date, here index, there is a {:.4f} increase in price'.format(lr.coef_[0]))\n",
    "print(\"y intercept c is \",lr.intercept_)\n",
    "print('interpretation: the line is above the cooridnate(0,0) by distance {:.4f} unit along the y axis'.format(lr.intercept_))\n",
    "print(\"hence, then resulting equation is y = {:.4f} x + {:.4f}\".format(lr.coef_[0],lr.intercept_))"
   ]
  },
  {
   "cell_type": "markdown",
   "metadata": {},
   "source": [
    "## model performance\n",
    "### RMSE "
   ]
  },
  {
   "cell_type": "code",
   "execution_count": 124,
   "metadata": {},
   "outputs": [
    {
     "name": "stdout",
     "output_type": "stream",
     "text": [
      "RMSE value: 121.6480\n"
     ]
    }
   ],
   "source": [
    "from sklearn.metrics import mean_squared_error\n",
    "mse = mean_squared_error(y_test, y_pred)\n",
    "rmse = np.sqrt(mse)\n",
    "print(\"RMSE value: {:.4f}\".format(rmse))"
   ]
  },
  {
   "cell_type": "markdown",
   "metadata": {},
   "source": [
    "### R2 score"
   ]
  },
  {
   "cell_type": "code",
   "execution_count": 125,
   "metadata": {},
   "outputs": [
    {
     "name": "stdout",
     "output_type": "stream",
     "text": [
      "R2 score: 0.5380\n"
     ]
    }
   ],
   "source": [
    "from sklearn.metrics import r2_score\n",
    "print(\"R2 score: {:.4f}\".format(r2_score(y_test, y_pred)))"
   ]
  },
  {
   "cell_type": "markdown",
   "metadata": {},
   "source": [
    "## Analysis"
   ]
  },
  {
   "cell_type": "code",
   "execution_count": 101,
   "metadata": {},
   "outputs": [
    {
     "data": {
      "image/png": "[encoded data removed]",
      "text/plain": [
       "<Figure size 432x288 with 1 Axes>"
      ]
     },
     "metadata": {
      "needs_background": "light"
     },
     "output_type": "display_data"
    }
   ],
   "source": [
    "#test data is plotted and prediction\n",
    "plt.scatter(df_close_pred['Date'], df_close_pred['Close'], color='blue', label='Scatter Plot')\n",
    "plt.plot(df_close_pred['Date'], df_close_pred['Prediction'], color='black', linewidth=3, label='Rergession Line')\n",
    "plt.title('TSLA date v/s stock price prediction')\n",
    "plt.xlabel('Date')\n",
    "plt.ylabel('price $')\n",
    "plt.legend(loc=4)\n",
    "plt.show()"
   ]
  },
  {
   "cell_type": "markdown",
   "metadata": {},
   "source": [
    "# Conclusion\n",
    "\n",
    "perfomance metrics RMSE and R2 scores shows that model performs poorly.\n",
    "RMSE should as low as possible (ideal scenario: close to zero) and R2 score which represent the variation, should be as close to 1. In industrial use case it should be >0.7\n",
    "\n",
    "### Errors identified and solutions\n",
    "1. base assumption of TSLA is wrong, it doesnt not clearly follow linear trend --> a less volatile stock will work better on the same setting\n",
    "2. less features and degree of polynomial --> more number of features and polynomial regression will work better\n",
    "3. volatility --> if the stock is temporarily volatile, a longer timeframe will help to reduce the effect of temporary volatility, but it will still fail to predict the price for volatile timeframes.\n"
   ]
  },
  {
   "cell_type": "markdown",
   "metadata": {},
   "source": [
    "#### Reference\n",
    "1. Machine Learning on Coursera by Andrew Ng\n",
    "2. [Simple Linear Regression Project-GitHub](https://github.com/pb111/Simple-Linear-Regression-Project/blob/master/SLRProject.ipynb)\n",
    "3. [Predicting Stock Prices with Linear Regression-GitHub](https://github.com/mediasittich/Predicting-Stock-Prices-with-Linear-Regression/blob/master/Predicting%20Stock%20Prices%20with%20Linear%20Regression.ipynb)"
   ]
  }
 ],
 "metadata": {
  "kernelspec": {
   "display_name": "Python 3",
   "language": "python",
   "name": "python3"
  },
  "language_info": {
   "codemirror_mode": {
    "name": "ipython",
    "version": 3
   },
   "file_extension": ".py",
   "mimetype": "text/x-python",
   "name": "python",
   "nbconvert_exporter": "python",
   "pygments_lexer": "ipython3",
   "version": "3.7.8"
  }
 },
 "nbformat": 4,
 "nbformat_minor": 4
}
